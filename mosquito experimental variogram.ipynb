{
 "cells": [
  {
   "cell_type": "code",
   "execution_count": 12,
   "metadata": {},
   "outputs": [],
   "source": [
    "import geopandas as gpd\n",
    "import contextily as ctx\n",
    "import pandas as pd\n",
    "import matplotlib.pyplot as plt\n",
    "import os\n",
    "import requests\n",
    "from shapely.geometry import box\n",
    "import gstools as gs\n",
    "import numpy as np\n",
    "import geopandas as gpd\n",
    "from sklearn.cluster import DBSCAN"
   ]
  },
  {
   "cell_type": "code",
   "execution_count": 9,
   "metadata": {},
   "outputs": [
    {
     "name": "stdout",
     "output_type": "stream",
     "text": [
      "Data downloaded and saved locally.\n"
     ]
    }
   ],
   "source": [
    "# Set the file path where you want to save the data\n",
    "data_file = 'data/mosquito-alert.csv'\n",
    "\n",
    "# Ensure the directory exists\n",
    "os.makedirs(os.path.dirname(data_file), exist_ok=True)\n",
    "\n",
    "# Direct link to the raw data file on GitHub\n",
    "url = 'https://raw.githubusercontent.com/janneheusler/mosquito-experimental-variogram/main/mosquito-alert.csv'\n",
    "\n",
    "# Download the file and save it locally\n",
    "response = requests.get(url)\n",
    "if response.status_code == 200:\n",
    "    with open(data_file, 'wb') as f:\n",
    "        f.write(response.content)\n",
    "    print(\"Data downloaded and saved locally.\")\n",
    "else:\n",
    "    print(f\"Failed to download the file. Status code: {response.status_code}\")\n",
    "\n",
    "# Now you can load the data\n",
    "import pandas as pd\n",
    "df = pd.read_csv(data_file)"
   ]
  },
  {
   "cell_type": "code",
   "execution_count": 10,
   "metadata": {},
   "outputs": [
    {
     "name": "stdout",
     "output_type": "stream",
     "text": [
      "Number of entries in Northern Italy: 5229\n"
     ]
    }
   ],
   "source": [
    "# Define the latitude and longitude boundaries for Northern Italy\n",
    "lat_min = 42\n",
    "lat_max = 48.0\n",
    "lon_min = 6.0\n",
    "lon_max = 15.0\n",
    "\n",
    "# Filter the data for rows where the latitude and longitude fall within these boundaries\n",
    "df_northern_italy = df[(df['decimalLatitude'] >= lat_min) & (df['decimalLatitude'] <= lat_max) &\n",
    "                       (df['decimalLongitude'] >= lon_min) & (df['decimalLongitude'] <= lon_max) &\n",
    "                       (df['countryCode'] == 'IT')]  # Assuming 'IT' is the country code for Italy\n",
    "\n",
    "# Display the filtered DataFrame\n",
    "df_northern_italy.head()\n",
    "\n",
    "# Show the number of rows in the filtered data\n",
    "print(f\"Number of entries in Northern Italy: {df_northern_italy.shape[0]}\")\n"
   ]
  },
  {
   "cell_type": "code",
   "execution_count": 13,
   "metadata": {},
   "outputs": [
    {
     "data": {
      "text/html": [
       "<div>\n",
       "<style scoped>\n",
       "    .dataframe tbody tr th:only-of-type {\n",
       "        vertical-align: middle;\n",
       "    }\n",
       "\n",
       "    .dataframe tbody tr th {\n",
       "        vertical-align: top;\n",
       "    }\n",
       "\n",
       "    .dataframe thead th {\n",
       "        text-align: right;\n",
       "    }\n",
       "</style>\n",
       "<table border=\"1\" class=\"dataframe\">\n",
       "  <thead>\n",
       "    <tr style=\"text-align: right;\">\n",
       "      <th></th>\n",
       "      <th>cluster</th>\n",
       "      <th>count</th>\n",
       "    </tr>\n",
       "  </thead>\n",
       "  <tbody>\n",
       "    <tr>\n",
       "      <th>0</th>\n",
       "      <td>-1</td>\n",
       "      <td>34</td>\n",
       "    </tr>\n",
       "    <tr>\n",
       "      <th>1</th>\n",
       "      <td>0</td>\n",
       "      <td>43</td>\n",
       "    </tr>\n",
       "    <tr>\n",
       "      <th>2</th>\n",
       "      <td>1</td>\n",
       "      <td>7</td>\n",
       "    </tr>\n",
       "    <tr>\n",
       "      <th>3</th>\n",
       "      <td>2</td>\n",
       "      <td>819</td>\n",
       "    </tr>\n",
       "    <tr>\n",
       "      <th>4</th>\n",
       "      <td>3</td>\n",
       "      <td>7</td>\n",
       "    </tr>\n",
       "  </tbody>\n",
       "</table>\n",
       "</div>"
      ],
      "text/plain": [
       "   cluster  count\n",
       "0       -1     34\n",
       "1        0     43\n",
       "2        1      7\n",
       "3        2    819\n",
       "4        3      7"
      ]
     },
     "execution_count": 13,
     "metadata": {},
     "output_type": "execute_result"
    }
   ],
   "source": [
    "\n",
    "# Create a GeoDataFrame from the filtered dataset\n",
    "gdf_filtered = gpd.GeoDataFrame(df_northern_italy, geometry=gpd.points_from_xy(df_northern_italy['decimalLongitude'], df_northern_italy['decimalLatitude']))\n",
    "\n",
    "# Set the CRS to WGS84 (EPSG:4326)\n",
    "gdf_filtered.set_crs(epsg=4326, inplace=True)\n",
    "\n",
    "# Convert to a projected CRS for distance-based clustering (EPSG:3857 - Web Mercator)\n",
    "gdf_projected = gdf_filtered.to_crs(epsg=3857)\n",
    "\n",
    "# Extract coordinates in meters for clustering\n",
    "coords = np.array(list(zip(gdf_projected.geometry.x, gdf_projected.geometry.y)))\n",
    "\n",
    "# Set a distance threshold of 18 kilometers (18,000 meters) for DBSCAN\n",
    "db = DBSCAN(eps=18000, min_samples=2, algorithm='auto', metric='euclidean').fit(coords)\n",
    "\n",
    "# Add the cluster labels to the original GeoDataFrame\n",
    "gdf_filtered['cluster'] = db.labels_\n",
    "\n",
    "# Aggregate the data based on the clusters\n",
    "cluster_aggregation = gdf_filtered.groupby('cluster')['count'].sum().reset_index()\n",
    "\n",
    "# Display the aggregated data\n",
    "cluster_aggregation.head()"
   ]
  },
  {
   "cell_type": "code",
   "execution_count": 14,
   "metadata": {},
   "outputs": [
    {
     "data": {
      "text/html": [
       "<div>\n",
       "<style scoped>\n",
       "    .dataframe tbody tr th:only-of-type {\n",
       "        vertical-align: middle;\n",
       "    }\n",
       "\n",
       "    .dataframe tbody tr th {\n",
       "        vertical-align: top;\n",
       "    }\n",
       "\n",
       "    .dataframe thead th {\n",
       "        text-align: right;\n",
       "    }\n",
       "</style>\n",
       "<table border=\"1\" class=\"dataframe\">\n",
       "  <thead>\n",
       "    <tr style=\"text-align: right;\">\n",
       "      <th></th>\n",
       "      <th>cluster</th>\n",
       "      <th>centroid_longitude</th>\n",
       "      <th>centroid_latitude</th>\n",
       "      <th>total_observations</th>\n",
       "    </tr>\n",
       "  </thead>\n",
       "  <tbody>\n",
       "    <tr>\n",
       "      <th>0</th>\n",
       "      <td>0</td>\n",
       "      <td>10.016544</td>\n",
       "      <td>44.061526</td>\n",
       "      <td>43</td>\n",
       "    </tr>\n",
       "    <tr>\n",
       "      <th>1</th>\n",
       "      <td>1</td>\n",
       "      <td>13.343779</td>\n",
       "      <td>42.367793</td>\n",
       "      <td>7</td>\n",
       "    </tr>\n",
       "    <tr>\n",
       "      <th>2</th>\n",
       "      <td>2</td>\n",
       "      <td>9.184709</td>\n",
       "      <td>45.558276</td>\n",
       "      <td>819</td>\n",
       "    </tr>\n",
       "    <tr>\n",
       "      <th>3</th>\n",
       "      <td>3</td>\n",
       "      <td>12.436247</td>\n",
       "      <td>43.101580</td>\n",
       "      <td>7</td>\n",
       "    </tr>\n",
       "    <tr>\n",
       "      <th>4</th>\n",
       "      <td>4</td>\n",
       "      <td>11.170109</td>\n",
       "      <td>43.759792</td>\n",
       "      <td>679</td>\n",
       "    </tr>\n",
       "  </tbody>\n",
       "</table>\n",
       "</div>"
      ],
      "text/plain": [
       "   cluster  centroid_longitude  centroid_latitude  total_observations\n",
       "0        0           10.016544          44.061526                  43\n",
       "1        1           13.343779          42.367793                   7\n",
       "2        2            9.184709          45.558276                 819\n",
       "3        3           12.436247          43.101580                   7\n",
       "4        4           11.170109          43.759792                 679"
      ]
     },
     "execution_count": 14,
     "metadata": {},
     "output_type": "execute_result"
    }
   ],
   "source": [
    "# For each cluster, calculate the centroid of the points within that cluster\n",
    "\n",
    "# First, filter out the noise points (cluster == -1) as they don't belong to any cluster\n",
    "gdf_clusters = gdf_filtered[gdf_filtered['cluster'] != -1]\n",
    "\n",
    "# Group by cluster and calculate the centroid (mean of latitude and longitude) for each cluster\n",
    "cluster_centroids = gdf_clusters.groupby('cluster').agg(\n",
    "    centroid_longitude=('decimalLongitude', 'mean'),\n",
    "    centroid_latitude=('decimalLatitude', 'mean'),\n",
    "    total_observations=('count', 'sum')\n",
    ").reset_index()\n",
    "\n",
    "# Display the centroids and aggregated data for each cluster\n",
    "cluster_centroids.head()"
   ]
  },
  {
   "cell_type": "code",
   "execution_count": 15,
   "metadata": {},
   "outputs": [
    {
     "name": "stderr",
     "output_type": "stream",
     "text": [
      "No artists with labels found to put in legend.  Note that artists whose label start with an underscore are ignored when legend() is called with no argument.\n"
     ]
    },
    {
     "data": {
      "image/png": "[encoded data removed]",
      "text/plain": [
       "<Figure size 800x600 with 1 Axes>"
      ]
     },
     "metadata": {},
     "output_type": "display_data"
    }
   ],
   "source": [
    "# Extract the coordinates (centroid latitude and longitude) and the total number of observations\n",
    "x_coords = cluster_centroids['centroid_longitude'].values\n",
    "y_coords = cluster_centroids['centroid_latitude'].values\n",
    "observation_counts = cluster_centroids['total_observations'].values\n",
    "\n",
    "# Step 1: Calculate the variance of the observation counts\n",
    "observations_variance = np.var(observation_counts)\n",
    "\n",
    "# Step 2: Define the variogram model with the calculated variance\n",
    "model = gs.Gaussian(dim=2, var=observations_variance)\n",
    "\n",
    "# Step 3: Estimate the experimental variogram\n",
    "bin_center, gamma = gs.vario_estimate((x_coords, y_coords), observation_counts)\n",
    "\n",
    "# Step 4: Fit the model to the experimental variogram\n",
    "fit_model = gs.Gaussian(dim=2)\n",
    "\n",
    "# Allow `gstools` to fit the length scale automatically\n",
    "fit_model.fit_variogram(bin_center, gamma, nugget=False)\n",
    "\n",
    "# Plot the variogram\n",
    "# Plot the experimental variogram (only the dots)\n",
    "plt.figure(figsize=(8, 6))\n",
    "plt.scatter(bin_center, gamma, color='black')  # Black dots\n",
    "plt.xlabel(\"Distance\", color='black')\n",
    "plt.ylabel(\"Semivariance\", color='black')\n",
    "plt.grid(True, linestyle='--', alpha=0.5)  # Optional: add a grid with dashed lines\n",
    "plt.legend()\n",
    "\n",
    "plt.show()"
   ]
  }
 ],
 "metadata": {
  "kernelspec": {
   "display_name": "base",
   "language": "python",
   "name": "python3"
  },
  "language_info": {
   "codemirror_mode": {
    "name": "ipython",
    "version": 3
   },
   "file_extension": ".py",
   "mimetype": "text/x-python",
   "name": "python",
   "nbconvert_exporter": "python",
   "pygments_lexer": "ipython3",
   "version": "3.11.7"
  }
 },
 "nbformat": 4,
 "nbformat_minor": 2
}
